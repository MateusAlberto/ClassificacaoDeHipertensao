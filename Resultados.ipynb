{
 "cells": [
  {
   "cell_type": "code",
   "execution_count": 5,
   "metadata": {},
   "outputs": [],
   "source": [
    "import pandas as pd\n",
    "import numpy as np\n",
    "import matplotlib.pyplot as plt\n",
    "import matplotlib.ticker as mtick\n",
    "import gower\n",
    "from sklearn import preprocessing\n",
    "from sklearn.model_selection import train_test_split, KFold, cross_validate, cross_val_predict, GridSearchCV\n",
    "from sklearn.neural_network import MLPClassifier\n",
    "from sklearn.metrics import confusion_matrix, classification_report\n",
    "from imblearn.over_sampling import SMOTE\n",
    "from imblearn.pipeline import Pipeline, make_pipeline"
   ]
  },
  {
   "cell_type": "code",
   "execution_count": 38,
   "metadata": {},
   "outputs": [
    {
     "data": {
      "text/html": [
       "<div>\n",
       "<style scoped>\n",
       "    .dataframe tbody tr th:only-of-type {\n",
       "        vertical-align: middle;\n",
       "    }\n",
       "\n",
       "    .dataframe tbody tr th {\n",
       "        vertical-align: top;\n",
       "    }\n",
       "\n",
       "    .dataframe thead th {\n",
       "        text-align: right;\n",
       "    }\n",
       "</style>\n",
       "<table border=\"1\" class=\"dataframe\">\n",
       "  <thead>\n",
       "    <tr style=\"text-align: right;\">\n",
       "      <th></th>\n",
       "      <th>C008</th>\n",
       "      <th>C010</th>\n",
       "      <th>E001</th>\n",
       "      <th>E003</th>\n",
       "      <th>M016</th>\n",
       "      <th>N010</th>\n",
       "      <th>N011</th>\n",
       "      <th>N012</th>\n",
       "      <th>N013</th>\n",
       "      <th>N014</th>\n",
       "      <th>...</th>\n",
       "      <th>C009_branco</th>\n",
       "      <th>C009_preto</th>\n",
       "      <th>C009_amarelo</th>\n",
       "      <th>C009_pardo</th>\n",
       "      <th>C009_indigena</th>\n",
       "      <th>norte</th>\n",
       "      <th>nordeste</th>\n",
       "      <th>sudeste</th>\n",
       "      <th>sul</th>\n",
       "      <th>centro_oeste</th>\n",
       "    </tr>\n",
       "  </thead>\n",
       "  <tbody>\n",
       "    <tr>\n",
       "      <th>0</th>\n",
       "      <td>0.714286</td>\n",
       "      <td>1.0</td>\n",
       "      <td>0.0</td>\n",
       "      <td>0.0</td>\n",
       "      <td>0.0</td>\n",
       "      <td>0.0</td>\n",
       "      <td>0.0</td>\n",
       "      <td>0.0</td>\n",
       "      <td>0.0</td>\n",
       "      <td>0.0</td>\n",
       "      <td>...</td>\n",
       "      <td>0.0</td>\n",
       "      <td>0.0</td>\n",
       "      <td>0.0</td>\n",
       "      <td>1.0</td>\n",
       "      <td>0.0</td>\n",
       "      <td>1.0</td>\n",
       "      <td>0.0</td>\n",
       "      <td>0.0</td>\n",
       "      <td>0.0</td>\n",
       "      <td>0.0</td>\n",
       "    </tr>\n",
       "    <tr>\n",
       "      <th>1</th>\n",
       "      <td>0.857143</td>\n",
       "      <td>1.0</td>\n",
       "      <td>0.0</td>\n",
       "      <td>0.0</td>\n",
       "      <td>0.0</td>\n",
       "      <td>0.0</td>\n",
       "      <td>0.0</td>\n",
       "      <td>1.0</td>\n",
       "      <td>0.0</td>\n",
       "      <td>0.0</td>\n",
       "      <td>...</td>\n",
       "      <td>0.0</td>\n",
       "      <td>0.0</td>\n",
       "      <td>0.0</td>\n",
       "      <td>1.0</td>\n",
       "      <td>0.0</td>\n",
       "      <td>1.0</td>\n",
       "      <td>0.0</td>\n",
       "      <td>0.0</td>\n",
       "      <td>0.0</td>\n",
       "      <td>0.0</td>\n",
       "    </tr>\n",
       "    <tr>\n",
       "      <th>2</th>\n",
       "      <td>0.142857</td>\n",
       "      <td>0.0</td>\n",
       "      <td>0.0</td>\n",
       "      <td>0.0</td>\n",
       "      <td>0.0</td>\n",
       "      <td>0.0</td>\n",
       "      <td>0.0</td>\n",
       "      <td>0.0</td>\n",
       "      <td>0.0</td>\n",
       "      <td>0.0</td>\n",
       "      <td>...</td>\n",
       "      <td>0.0</td>\n",
       "      <td>0.0</td>\n",
       "      <td>0.0</td>\n",
       "      <td>1.0</td>\n",
       "      <td>0.0</td>\n",
       "      <td>1.0</td>\n",
       "      <td>0.0</td>\n",
       "      <td>0.0</td>\n",
       "      <td>0.0</td>\n",
       "      <td>0.0</td>\n",
       "    </tr>\n",
       "    <tr>\n",
       "      <th>3</th>\n",
       "      <td>0.428571</td>\n",
       "      <td>1.0</td>\n",
       "      <td>1.0</td>\n",
       "      <td>0.0</td>\n",
       "      <td>0.0</td>\n",
       "      <td>0.0</td>\n",
       "      <td>0.0</td>\n",
       "      <td>0.0</td>\n",
       "      <td>0.0</td>\n",
       "      <td>0.0</td>\n",
       "      <td>...</td>\n",
       "      <td>0.0</td>\n",
       "      <td>0.0</td>\n",
       "      <td>0.0</td>\n",
       "      <td>1.0</td>\n",
       "      <td>0.0</td>\n",
       "      <td>1.0</td>\n",
       "      <td>0.0</td>\n",
       "      <td>0.0</td>\n",
       "      <td>0.0</td>\n",
       "      <td>0.0</td>\n",
       "    </tr>\n",
       "    <tr>\n",
       "      <th>4</th>\n",
       "      <td>0.857143</td>\n",
       "      <td>1.0</td>\n",
       "      <td>0.0</td>\n",
       "      <td>0.0</td>\n",
       "      <td>0.0</td>\n",
       "      <td>0.0</td>\n",
       "      <td>0.0</td>\n",
       "      <td>0.0</td>\n",
       "      <td>0.0</td>\n",
       "      <td>0.0</td>\n",
       "      <td>...</td>\n",
       "      <td>0.0</td>\n",
       "      <td>0.0</td>\n",
       "      <td>0.0</td>\n",
       "      <td>1.0</td>\n",
       "      <td>0.0</td>\n",
       "      <td>1.0</td>\n",
       "      <td>0.0</td>\n",
       "      <td>0.0</td>\n",
       "      <td>0.0</td>\n",
       "      <td>0.0</td>\n",
       "    </tr>\n",
       "  </tbody>\n",
       "</table>\n",
       "<p>5 rows × 44 columns</p>\n",
       "</div>"
      ],
      "text/plain": [
       "       C008  C010  E001  E003  M016  N010  N011  N012  N013  N014  ...  \\\n",
       "0  0.714286   1.0   0.0   0.0   0.0   0.0   0.0   0.0   0.0   0.0  ...   \n",
       "1  0.857143   1.0   0.0   0.0   0.0   0.0   0.0   1.0   0.0   0.0  ...   \n",
       "2  0.142857   0.0   0.0   0.0   0.0   0.0   0.0   0.0   0.0   0.0  ...   \n",
       "3  0.428571   1.0   1.0   0.0   0.0   0.0   0.0   0.0   0.0   0.0  ...   \n",
       "4  0.857143   1.0   0.0   0.0   0.0   0.0   0.0   0.0   0.0   0.0  ...   \n",
       "\n",
       "   C009_branco  C009_preto  C009_amarelo  C009_pardo  C009_indigena  norte  \\\n",
       "0          0.0         0.0           0.0         1.0            0.0    1.0   \n",
       "1          0.0         0.0           0.0         1.0            0.0    1.0   \n",
       "2          0.0         0.0           0.0         1.0            0.0    1.0   \n",
       "3          0.0         0.0           0.0         1.0            0.0    1.0   \n",
       "4          0.0         0.0           0.0         1.0            0.0    1.0   \n",
       "\n",
       "   nordeste  sudeste  sul  centro_oeste  \n",
       "0       0.0      0.0  0.0           0.0  \n",
       "1       0.0      0.0  0.0           0.0  \n",
       "2       0.0      0.0  0.0           0.0  \n",
       "3       0.0      0.0  0.0           0.0  \n",
       "4       0.0      0.0  0.0           0.0  \n",
       "\n",
       "[5 rows x 44 columns]"
      ]
     },
     "execution_count": 38,
     "metadata": {},
     "output_type": "execute_result"
    }
   ],
   "source": [
    "df = pd.read_csv('hipertensao_normalizada.csv', sep=';')\n",
    "#df.drop(columns=['X001'], inplace=True)\n",
    "df.head()"
   ]
  },
  {
   "cell_type": "code",
   "execution_count": 39,
   "metadata": {},
   "outputs": [],
   "source": [
    "# Iremos separar 20% da base para teste\n",
    "# Com os outros 80%, aplicaremos um cross validation com fold = 5 (ficaria muito pequeno para fazer 10)\n",
    "# Após isso, aplicaremos o oversample para cada dobra e então aplicar a rede neural para realizar o treinamento da classificação\n",
    "y = df['Q002'].to_numpy()\n",
    "df.drop(columns=['Q002'], inplace=True)\n",
    "X = df.to_numpy()\n",
    "X_treino, X_teste, y_treino, y_teste = train_test_split(X, y, test_size=0.25, random_state=0)"
   ]
  },
  {
   "cell_type": "code",
   "execution_count": 70,
   "metadata": {},
   "outputs": [],
   "source": [
    "oversampler = SMOTE(random_state=42)\n",
    "rede_neural = MLPClassifier()\n",
    "# Nesta linha, estamos criando um pipeline para poder utilizar o cross-validation aplicando o oversampling SMOTE em cada dobra\n",
    "imba_pipeline = make_pipeline(oversampler, rede_neural, verbose=True)"
   ]
  },
  {
   "cell_type": "code",
   "execution_count": 79,
   "metadata": {},
   "outputs": [],
   "source": [
    "parametros = {\n",
    "    'mlpclassifier__hidden_layer_sizes': [(128, 22)],\n",
    "    'mlpclassifier__activation': ['relu'],\n",
    "    'mlpclassifier__solver': ['sgd'],\n",
    "    'mlpclassifier__learning_rate': ['adaptive'],\n",
    "    'mlpclassifier__learning_rate_init': [0.001],\n",
    "    'mlpclassifier__max_iter': [20000],\n",
    "    #'mlpclassifier__verbose': [True],\n",
    "    'mlpclassifier__random_state': [1]\n",
    "}"
   ]
  },
  {
   "cell_type": "code",
   "execution_count": 80,
   "metadata": {},
   "outputs": [
    {
     "name": "stdout",
     "output_type": "stream",
     "text": [
      "[Pipeline] ............. (step 1 of 2) Processing smote, total=   0.0s\n",
      "[Pipeline] ..... (step 2 of 2) Processing mlpclassifier, total=  42.8s\n",
      "[Pipeline] ............. (step 1 of 2) Processing smote, total=   0.0s\n",
      "[Pipeline] ..... (step 2 of 2) Processing mlpclassifier, total=  35.2s\n",
      "[Pipeline] ............. (step 1 of 2) Processing smote, total=   0.0s\n",
      "[Pipeline] ..... (step 2 of 2) Processing mlpclassifier, total=  35.3s\n",
      "[Pipeline] ............. (step 1 of 2) Processing smote, total=   0.0s\n",
      "[Pipeline] ..... (step 2 of 2) Processing mlpclassifier, total=  42.0s\n",
      "[Pipeline] ............. (step 1 of 2) Processing smote, total=   0.0s\n",
      "[Pipeline] ..... (step 2 of 2) Processing mlpclassifier, total=  38.2s\n",
      "[Pipeline] ............. (step 1 of 2) Processing smote, total=   0.0s\n",
      "[Pipeline] ..... (step 2 of 2) Processing mlpclassifier, total=  46.2s\n"
     ]
    }
   ],
   "source": [
    "grid_imba = GridSearchCV(imba_pipeline, param_grid=parametros, cv=5, scoring='recall', return_train_score=True)\n",
    "grid_imba.fit(X_treino, y_treino);"
   ]
  },
  {
   "cell_type": "code",
   "execution_count": 81,
   "metadata": {},
   "outputs": [
    {
     "data": {
      "text/plain": [
       "{'mlpclassifier__activation': 'relu',\n",
       " 'mlpclassifier__hidden_layer_sizes': (128, 22),\n",
       " 'mlpclassifier__learning_rate': 'adaptive',\n",
       " 'mlpclassifier__learning_rate_init': 0.001,\n",
       " 'mlpclassifier__max_iter': 20000,\n",
       " 'mlpclassifier__random_state': 1,\n",
       " 'mlpclassifier__solver': 'sgd'}"
      ]
     },
     "execution_count": 81,
     "metadata": {},
     "output_type": "execute_result"
    }
   ],
   "source": [
    "grid_imba.best_params_"
   ]
  },
  {
   "cell_type": "code",
   "execution_count": 82,
   "metadata": {},
   "outputs": [
    {
     "data": {
      "text/plain": [
       "0.12252100840336133"
      ]
     },
     "execution_count": 82,
     "metadata": {},
     "output_type": "execute_result"
    }
   ],
   "source": [
    "grid_imba.best_score_"
   ]
  },
  {
   "cell_type": "code",
   "execution_count": 83,
   "metadata": {},
   "outputs": [
    {
     "name": "stdout",
     "output_type": "stream",
     "text": [
      "                 precision    recall  f1-score   support\n",
      "\n",
      "sem hipertensão       0.92      0.92      0.92       554\n",
      "com hipertensão       0.12      0.12      0.12        49\n",
      "\n",
      "       accuracy                           0.86       603\n",
      "      macro avg       0.52      0.52      0.52       603\n",
      "   weighted avg       0.86      0.86      0.86       603\n",
      "\n"
     ]
    }
   ],
   "source": [
    "y_teste_predict = grid_imba.predict(X_teste)\n",
    "print(classification_report(y_teste, y_teste_predict, target_names=['sem hipertensão', 'com hipertensão']))"
   ]
  },
  {
   "cell_type": "code",
   "execution_count": 84,
   "metadata": {},
   "outputs": [
    {
     "data": {
      "text/plain": [
       "array([[511,  43],\n",
       "       [ 43,   6]], dtype=int64)"
      ]
     },
     "execution_count": 84,
     "metadata": {},
     "output_type": "execute_result"
    }
   ],
   "source": [
    "confusion_matrix(y_teste, y_teste_predict)"
   ]
  },
  {
   "cell_type": "code",
   "execution_count": 78,
   "metadata": {},
   "outputs": [
    {
     "ename": "AttributeError",
     "evalue": "'MLPClassifier' object has no attribute 'loss_curve_'",
     "output_type": "error",
     "traceback": [
      "\u001b[1;31m---------------------------------------------------------------------------\u001b[0m",
      "\u001b[1;31mAttributeError\u001b[0m                            Traceback (most recent call last)",
      "\u001b[1;32m<ipython-input-78-c7b20da55682>\u001b[0m in \u001b[0;36m<module>\u001b[1;34m\u001b[0m\n\u001b[1;32m----> 1\u001b[1;33m \u001b[0mrede_neural\u001b[0m\u001b[1;33m.\u001b[0m\u001b[0mloss_curve_\u001b[0m\u001b[1;33m\u001b[0m\u001b[1;33m\u001b[0m\u001b[0m\n\u001b[0m",
      "\u001b[1;31mAttributeError\u001b[0m: 'MLPClassifier' object has no attribute 'loss_curve_'"
     ]
    }
   ],
   "source": [
    "rede_neural.loss_curve_"
   ]
  },
  {
   "cell_type": "code",
   "execution_count": null,
   "metadata": {},
   "outputs": [],
   "source": []
  }
 ],
 "metadata": {
  "kernelspec": {
   "display_name": "Python 3",
   "language": "python",
   "name": "python3"
  },
  "language_info": {
   "codemirror_mode": {
    "name": "ipython",
    "version": 3
   },
   "file_extension": ".py",
   "mimetype": "text/x-python",
   "name": "python",
   "nbconvert_exporter": "python",
   "pygments_lexer": "ipython3",
   "version": "3.8.5"
  }
 },
 "nbformat": 4,
 "nbformat_minor": 4
}
