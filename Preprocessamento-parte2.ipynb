{
 "cells": [
  {
   "cell_type": "markdown",
   "metadata": {},
   "source": [
    "# Pré-processamento - Parte 2"
   ]
  },
  {
   "cell_type": "code",
   "execution_count": 83,
   "metadata": {},
   "outputs": [],
   "source": [
    "import pandas as pd\n",
    "import numpy as np\n",
    "import matplotlib.pyplot as plt\n",
    "import matplotlib.ticker as mtick\n",
    "import gower\n",
    "from sklearn import preprocessing\n",
    "from sklearn.model_selection import train_test_split, KFold, cross_validate, cross_val_predict, GridSearchCV\n",
    "from sklearn.neural_network import MLPClassifier\n",
    "from sklearn.metrics import confusion_matrix, classification_report\n",
    "from imblearn.over_sampling import SMOTE\n",
    "from imblearn.pipeline import Pipeline, make_pipeline\n",
    "\n",
    "plt.rcParams[\"figure.figsize\"] = (21,9)\n",
    "plt.rcParams['font.size'] = 20"
   ]
  },
  {
   "cell_type": "code",
   "execution_count": 43,
   "metadata": {},
   "outputs": [],
   "source": [
    "# Função para plotar um gráfico\n",
    "def plotar_grafico(coluna, titulo):\n",
    "    print(df[coluna].value_counts(), df[coluna].unique())\n",
    "    df.groupby([coluna, 'Q002']).size().groupby(level=0).apply(\n",
    "        lambda x: 100 * x / x.sum()\n",
    "    ).unstack().plot(kind='bar',stacked=True)\n",
    "    plt.rcParams[\"figure.figsize\"] = (30,10)\n",
    "    plt.title(titulo)\n",
    "    plt.xlabel(\"\")\n",
    "    plt.show()"
   ]
  },
  {
   "cell_type": "code",
   "execution_count": 44,
   "metadata": {},
   "outputs": [],
   "source": [
    "#plotar_grafico('C008', 'Hipertensão por idade')"
   ]
  },
  {
   "cell_type": "code",
   "execution_count": 45,
   "metadata": {},
   "outputs": [],
   "source": [
    "#plotar_grafico('P02601', 'Hipertensão por Considerando a comida preparada na hora e os alimentos industrializados, o(a) sr(a) acha que seu consumo de sal é:')"
   ]
  },
  {
   "cell_type": "raw",
   "metadata": {},
   "source": [
    "# create dummy variable then group by that\n",
    "# set the legend to false because we'll fix it later\n",
    "df.assign(dummy = 1).groupby(\n",
    "  ['dummy','Q002']\n",
    ").size().groupby(level=0).apply(\n",
    "    lambda x: 100 * x / x.sum()\n",
    ").to_frame().unstack().plot(kind='bar',stacked=True,legend=False)\n",
    "\n",
    "# or it'll show up as 'dummy' \n",
    "plt.xlabel(\"hipertenso\")\n",
    "\n",
    "# disable ticks in the x axis\n",
    "plt.xticks([])\n",
    "\n",
    "# fix the legend or it'll include the dummy variable\n",
    "current_handles, _ = plt.gca().get_legend_handles_labels()\n",
    "reversed_handles = reversed(current_handles)\n",
    "correct_labels = reversed(df['Q002'].unique())\n",
    "\n",
    "#plt.figure(figsize=(400,300))\n",
    "plt.legend(reversed_handles,correct_labels)\n",
    "\n",
    "plt.gca().yaxis.set_major_formatter(mtick.PercentFormatter())\n",
    "plt.show()\n",
    "\n",
    "#1.0 - diagnosticado com hipertensão, 3.0 - não diagnosticado com hipertensão"
   ]
  },
  {
   "cell_type": "code",
   "execution_count": 46,
   "metadata": {},
   "outputs": [],
   "source": [
    "# Função para normalizar uma coluna entre 0 e 1\n",
    "def normalizar(coluna):\n",
    "    minimo, maximo = coluna.min(), coluna.max()\n",
    "    normalizada = coluna.to_numpy()\n",
    "    normalizada = (normalizada - minimo) / (maximo - minimo)\n",
    "    return normalizada"
   ]
  },
  {
   "cell_type": "code",
   "execution_count": 47,
   "metadata": {},
   "outputs": [],
   "source": [
    "#Variáveis e suas explicações\n",
    "variaveis = [\n",
    "    ('V0001', 'Hipertensão por estado brasileiro'),\n",
    "    ('C008', 'Hipertensão por idade'),\n",
    "    ('C009', 'Hipertensão por Cor ou raça'),\n",
    "    ('C010', 'Hipertensão por vive com cônjuge ou companheiro (a)?'),\n",
    "    ('E001', 'Hipertensão por trabalhou ou estagiou, durante pelo menos uma hora, em alguma atividade remunerada em dinheiro?'),\n",
    "    ('E003', 'Hipertensão por fez algum bico ou trabalhou em alguma atividade ocasional remunerada durante pelo menos 1 hora?'),\n",
    "    ('J001', 'Hipertensão por De um modo geral, como é o estado de saúde de?'),\n",
    "    ('M016', 'Hipertensão por Nos últimos 12 meses, com que frequência o(a) sr(a) participou de atividades esportivas ou artísticas em grupo?'),\n",
    "    ('N010', 'Hipertensão por Nas duas últimas semanas, com que frequência o(a) sr(a) teve problemas no sono, como dificuldade para adormecer, acordar frequentemente à noite ou dormir mais do que de costume?'),\n",
    "    ('N011', 'Hipertensão por Nas duas últimas semanas, com que frequência o(a) sr(a) teve problemas por não se sentir descansado(a) e disposto(a) durante o dia, sentindo-se cansado(a), sem ter energia?'),\n",
    "    ('N012', 'Hipertensão por Nas duas últimas semanas, com que frequência o(a) sr(a) teve pouco interesse ou não sentiu prazer em fazer as coisas?'),\n",
    "    ('N013', 'Hipertensão por Nas duas últimas semanas, com que frequência o(a) sr(a) teve problemas para se concentrar nas suas atividades habituais?'),\n",
    "    ('N014', 'Hipertensão por Nas duas últimas semanas, com que frequência o(a) sr(a) teve problemas na alimentação, como ter falta de apetite ou comer muito mais do que costume?'),\n",
    "    ('N015', 'Hipertensão por Nas duas últimas semanas, com que frequência o(a) sr(a) teve lentidão para se movimentar ou falar, ou ao contrário, ficou muito agitado(a) ou inquieto(a)?'),\n",
    "    ('N016', 'Hipertensão por Nas duas últimas semanas, com que frequência o(a) sr(a) se sentiu deprimido(a), “pra baixo” ou sem perspectiva?'),\n",
    "    ('N017', 'Hipertensão por Nas duas últimas semanas, com que frequência o(a) sr(a) se sentiu mal consigo mesmo, se achando um fracasso ou achando que decepcionou sua família?'),\n",
    "    ('P006', 'Hipertensão por Em quantos dias da semana o(a) sr(a) costuma comer feijão?'),\n",
    "    ('P007', 'Hipertensão por Em quantos dias da semana, o(a) sr(a) costuma comer salada de alface e tomate ou salada de qualquer outra verdura ou legume cru?'),\n",
    "    ('P009', 'Hipertensão por Em quantos dias da semana, o(a) sr(a) costuma comer verdura ou legume cozido, como couve, cenoura, chuchu, berinjela, abobrinha?'),\n",
    "    ('P011', 'Hipertensão por Em quantos dias da semana o(a) sr(a) costuma comer carne vermelha (boi, porco, cabrito)?'),\n",
    "    ('P013', 'Hipertensão por Em quantos dias da semana o(a) sr(a) costuma comer frango/galinha?'),\n",
    "    ('P015', 'Hipertensão por Em quantos dias da semana o(a) sr(a) costuma comer peixe?'),\n",
    "    ('P016', 'Hipertensão por Em quantos dias da semana o(a) sr(a) costuma tomar suco de frutas natural?'),\n",
    "    ('P018', 'Hipertensão por Em quantos dias da semana o(a) sr(a) costuma comer frutas?'),\n",
    "    ('P020', 'Hipertensão por Em quantos dias da semana o(a) sr(a) costuma tomar refrigerante ou suco artificial?'),\n",
    "    ('P023', 'Hipertensão por Em quantos dias da semana o(a) sr(a) costuma tomar leite?'),\n",
    "    ('P025', 'Hipertensão por Em quantos dias da semana o(a) sr(a) come alimentos doces, tais como pedaços de bolo ou torta, doces, chocolates, balas, biscoitos ou bolachas doces?'),\n",
    "    ('P026', 'Hipertensão por Em quantos dias da semana o(a) sr(a) substitui a refeição do almoço ou jantar por sanduiches, salgados ou pizzas?'),\n",
    "    ('P02601', 'Hipertensão por Considerando a comida preparada na hora e os alimentos industrializados, o(a) sr(a) acha que seu consumo de sal é:'),\n",
    "    ('P034', 'Hipertensão por Nos últimos três meses, o(a) sr(a) praticou algum tipo de exercício físico ou esporte?'),\n",
    "    ('P042', 'Hipertensão por Nas suas atividades habituais (tais como ir a algum curso, escola ou clube ou levar alguém a algum curso, escola ou clube), quantos dias por semana o(a) sr(a) faz alguma atividade que envolva deslocamento a pé ou bicicleta?'),\n",
    "    ('P044', 'Hipertensão por Nas suas atividades domésticas, o(a) sr(a) faz faxina pesada, carrega peso ou faz outra atividade pesada que requer esforço físico intenso?'),\n",
    "    ('P045', 'Hipertensão por Em média, quantas horas por dia o(a) sr(a) costuma ficar assistindo televisão?'),\n",
    "    ('P050', 'Hipertensão por Atualmente, o(a) sr(a) fuma algum produto do tabaco?'),\n",
    "    ('P068', 'Hipertensão por Com que frequência alguém fuma dentro do seu domicílio?'),\n",
    "    ('Q002', 'Hipertensão'),\n",
    "    ('X001', 'Hipertensão por Quando foi a última vez que o(a) sr(a) consultou um médico?'),\n",
    "    ('regiao', 'Hipertensão por região do Brasil')\n",
    "]"
   ]
  },
  {
   "cell_type": "code",
   "execution_count": 48,
   "metadata": {},
   "outputs": [
    {
     "data": {
      "text/html": [
       "<div>\n",
       "<style scoped>\n",
       "    .dataframe tbody tr th:only-of-type {\n",
       "        vertical-align: middle;\n",
       "    }\n",
       "\n",
       "    .dataframe tbody tr th {\n",
       "        vertical-align: top;\n",
       "    }\n",
       "\n",
       "    .dataframe thead th {\n",
       "        text-align: right;\n",
       "    }\n",
       "</style>\n",
       "<table border=\"1\" class=\"dataframe\">\n",
       "  <thead>\n",
       "    <tr style=\"text-align: right;\">\n",
       "      <th></th>\n",
       "      <th>V0001</th>\n",
       "      <th>C008</th>\n",
       "      <th>C009</th>\n",
       "      <th>C010</th>\n",
       "      <th>E001</th>\n",
       "      <th>E003</th>\n",
       "      <th>J001</th>\n",
       "      <th>M016</th>\n",
       "      <th>N010</th>\n",
       "      <th>N011</th>\n",
       "      <th>...</th>\n",
       "      <th>P026</th>\n",
       "      <th>P02601</th>\n",
       "      <th>P034</th>\n",
       "      <th>P042</th>\n",
       "      <th>P044</th>\n",
       "      <th>P045</th>\n",
       "      <th>P050</th>\n",
       "      <th>P068</th>\n",
       "      <th>Q002</th>\n",
       "      <th>X001</th>\n",
       "    </tr>\n",
       "  </thead>\n",
       "  <tbody>\n",
       "    <tr>\n",
       "      <th>0</th>\n",
       "      <td>11</td>\n",
       "      <td>23</td>\n",
       "      <td>4</td>\n",
       "      <td>1.0</td>\n",
       "      <td>2.0</td>\n",
       "      <td>2.0</td>\n",
       "      <td>3</td>\n",
       "      <td>6.0</td>\n",
       "      <td>1.0</td>\n",
       "      <td>2.0</td>\n",
       "      <td>...</td>\n",
       "      <td>2</td>\n",
       "      <td>4.0</td>\n",
       "      <td>2.0</td>\n",
       "      <td>0</td>\n",
       "      <td>2.0</td>\n",
       "      <td>5.0</td>\n",
       "      <td>3.0</td>\n",
       "      <td>5.0</td>\n",
       "      <td>1.0</td>\n",
       "      <td>2.0</td>\n",
       "    </tr>\n",
       "    <tr>\n",
       "      <th>1</th>\n",
       "      <td>11</td>\n",
       "      <td>24</td>\n",
       "      <td>4</td>\n",
       "      <td>1.0</td>\n",
       "      <td>2.0</td>\n",
       "      <td>2.0</td>\n",
       "      <td>3</td>\n",
       "      <td>6.0</td>\n",
       "      <td>1.0</td>\n",
       "      <td>1.0</td>\n",
       "      <td>...</td>\n",
       "      <td>7</td>\n",
       "      <td>4.0</td>\n",
       "      <td>2.0</td>\n",
       "      <td>5</td>\n",
       "      <td>2.0</td>\n",
       "      <td>5.0</td>\n",
       "      <td>3.0</td>\n",
       "      <td>4.0</td>\n",
       "      <td>1.0</td>\n",
       "      <td>3.0</td>\n",
       "    </tr>\n",
       "    <tr>\n",
       "      <th>2</th>\n",
       "      <td>11</td>\n",
       "      <td>19</td>\n",
       "      <td>4</td>\n",
       "      <td>2.0</td>\n",
       "      <td>2.0</td>\n",
       "      <td>2.0</td>\n",
       "      <td>3</td>\n",
       "      <td>6.0</td>\n",
       "      <td>1.0</td>\n",
       "      <td>1.0</td>\n",
       "      <td>...</td>\n",
       "      <td>0</td>\n",
       "      <td>4.0</td>\n",
       "      <td>2.0</td>\n",
       "      <td>7</td>\n",
       "      <td>2.0</td>\n",
       "      <td>5.0</td>\n",
       "      <td>3.0</td>\n",
       "      <td>5.0</td>\n",
       "      <td>1.0</td>\n",
       "      <td>2.0</td>\n",
       "    </tr>\n",
       "    <tr>\n",
       "      <th>3</th>\n",
       "      <td>11</td>\n",
       "      <td>21</td>\n",
       "      <td>4</td>\n",
       "      <td>1.0</td>\n",
       "      <td>1.0</td>\n",
       "      <td>2.0</td>\n",
       "      <td>2</td>\n",
       "      <td>6.0</td>\n",
       "      <td>1.0</td>\n",
       "      <td>1.0</td>\n",
       "      <td>...</td>\n",
       "      <td>2</td>\n",
       "      <td>3.0</td>\n",
       "      <td>2.0</td>\n",
       "      <td>0</td>\n",
       "      <td>2.0</td>\n",
       "      <td>2.0</td>\n",
       "      <td>3.0</td>\n",
       "      <td>5.0</td>\n",
       "      <td>1.0</td>\n",
       "      <td>5.0</td>\n",
       "    </tr>\n",
       "    <tr>\n",
       "      <th>4</th>\n",
       "      <td>11</td>\n",
       "      <td>24</td>\n",
       "      <td>4</td>\n",
       "      <td>1.0</td>\n",
       "      <td>2.0</td>\n",
       "      <td>2.0</td>\n",
       "      <td>3</td>\n",
       "      <td>6.0</td>\n",
       "      <td>1.0</td>\n",
       "      <td>1.0</td>\n",
       "      <td>...</td>\n",
       "      <td>0</td>\n",
       "      <td>3.0</td>\n",
       "      <td>2.0</td>\n",
       "      <td>3</td>\n",
       "      <td>2.0</td>\n",
       "      <td>5.0</td>\n",
       "      <td>3.0</td>\n",
       "      <td>5.0</td>\n",
       "      <td>1.0</td>\n",
       "      <td>5.0</td>\n",
       "    </tr>\n",
       "  </tbody>\n",
       "</table>\n",
       "<p>5 rows × 37 columns</p>\n",
       "</div>"
      ],
      "text/plain": [
       "   V0001  C008  C009  C010  E001  E003  J001  M016  N010  N011  ...  P026  \\\n",
       "0     11    23     4   1.0   2.0   2.0     3   6.0   1.0   2.0  ...     2   \n",
       "1     11    24     4   1.0   2.0   2.0     3   6.0   1.0   1.0  ...     7   \n",
       "2     11    19     4   2.0   2.0   2.0     3   6.0   1.0   1.0  ...     0   \n",
       "3     11    21     4   1.0   1.0   2.0     2   6.0   1.0   1.0  ...     2   \n",
       "4     11    24     4   1.0   2.0   2.0     3   6.0   1.0   1.0  ...     0   \n",
       "\n",
       "   P02601  P034  P042  P044  P045  P050  P068  Q002  X001  \n",
       "0     4.0   2.0     0   2.0   5.0   3.0   5.0   1.0   2.0  \n",
       "1     4.0   2.0     5   2.0   5.0   3.0   4.0   1.0   3.0  \n",
       "2     4.0   2.0     7   2.0   5.0   3.0   5.0   1.0   2.0  \n",
       "3     3.0   2.0     0   2.0   2.0   3.0   5.0   1.0   5.0  \n",
       "4     3.0   2.0     3   2.0   5.0   3.0   5.0   1.0   5.0  \n",
       "\n",
       "[5 rows x 37 columns]"
      ]
     },
     "execution_count": 48,
     "metadata": {},
     "output_type": "execute_result"
    }
   ],
   "source": [
    "df = pd.read_csv('hipertensao_18a25.csv', sep=';')\n",
    "df.head()"
   ]
  },
  {
   "cell_type": "markdown",
   "metadata": {},
   "source": [
    "# Verificando outliers com matriz de similaridades de Gower"
   ]
  },
  {
   "cell_type": "code",
   "execution_count": 49,
   "metadata": {},
   "outputs": [],
   "source": [
    "matriz_similaridades = gower.gower_matrix(df)\n",
    "# fazer o corte em 0.65 e verificar quais desses do corte teve mais ocorrências de dissimilaridade acima do corte"
   ]
  },
  {
   "cell_type": "code",
   "execution_count": 50,
   "metadata": {},
   "outputs": [
    {
     "data": {
      "text/plain": [
       "array([[0.        , 0.2001287 , 0.24581724, ..., 0.4092664 , 0.41087517,\n",
       "        0.3030888 ],\n",
       "       [0.2001287 , 0.        , 0.3018018 , ..., 0.47232947, 0.4662162 ,\n",
       "        0.33783785],\n",
       "       [0.24581724, 0.3018018 , 0.        , ..., 0.48262548, 0.60778636,\n",
       "        0.4124839 ],\n",
       "       ...,\n",
       "       [0.4092664 , 0.47232947, 0.48262548, ..., 0.        , 0.32078508,\n",
       "        0.24259974],\n",
       "       [0.41087517, 0.4662162 , 0.60778636, ..., 0.32078508, 0.        ,\n",
       "        0.3246461 ],\n",
       "       [0.3030888 , 0.33783785, 0.4124839 , ..., 0.24259974, 0.3246461 ,\n",
       "        0.        ]], dtype=float32)"
      ]
     },
     "execution_count": 50,
     "metadata": {},
     "output_type": "execute_result"
    }
   ],
   "source": [
    "matriz_similaridades"
   ]
  },
  {
   "cell_type": "code",
   "execution_count": 51,
   "metadata": {},
   "outputs": [],
   "source": [
    "similaridades = matriz_similaridades.flatten()\n",
    "similaridades.sort()"
   ]
  },
  {
   "cell_type": "code",
   "execution_count": 52,
   "metadata": {},
   "outputs": [
    {
     "data": {
      "text/plain": [
       "count    5.817744e+06\n",
       "mean     2.962051e-01\n",
       "std      7.326698e-02\n",
       "min      0.000000e+00\n",
       "25%      2.409910e-01\n",
       "50%      2.873230e-01\n",
       "75%      3.388031e-01\n",
       "max      6.892536e-01\n",
       "dtype: float64"
      ]
     },
     "execution_count": 52,
     "metadata": {},
     "output_type": "execute_result"
    }
   ],
   "source": [
    "serie = pd.Series(similaridades)\n",
    "serie.describe()"
   ]
  },
  {
   "cell_type": "code",
   "execution_count": 53,
   "metadata": {},
   "outputs": [
    {
     "data": {
      "text/plain": [
       "0          0.000000\n",
       "2414       0.042471\n",
       "2416       0.043436\n",
       "2418       0.048263\n",
       "2420       0.048584\n",
       "             ...   \n",
       "5817734    0.674260\n",
       "5817736    0.677027\n",
       "5817738    0.677606\n",
       "5817740    0.686293\n",
       "5817742    0.689254\n",
       "Length: 8881, dtype: float32"
      ]
     },
     "execution_count": 53,
     "metadata": {},
     "output_type": "execute_result"
    }
   ],
   "source": [
    "serie.drop_duplicates(inplace=True)\n",
    "serie"
   ]
  },
  {
   "cell_type": "code",
   "execution_count": 54,
   "metadata": {},
   "outputs": [
    {
     "data": {
      "image/png": "[encoded data removed]",
      "text/plain": [
       "<Figure size 1512x648 with 1 Axes>"
      ]
     },
     "metadata": {
      "needs_background": "light"
     },
     "output_type": "display_data"
    }
   ],
   "source": [
    "val = 0. # this is the value where you want the data to appear on the y-axis.\n",
    "plt.plot(serie, np.zeros_like(serie) + val, 'x')\n",
    "plt.show()"
   ]
  },
  {
   "cell_type": "code",
   "execution_count": 55,
   "metadata": {},
   "outputs": [
    {
     "name": "stdout",
     "output_type": "stream",
     "text": [
      "<class 'pandas.core.frame.DataFrame'>\n",
      "RangeIndex: 2412 entries, 0 to 2411\n",
      "Data columns (total 37 columns):\n",
      " #   Column  Non-Null Count  Dtype  \n",
      "---  ------  --------------  -----  \n",
      " 0   V0001   2412 non-null   int64  \n",
      " 1   C008    2412 non-null   int64  \n",
      " 2   C009    2412 non-null   int64  \n",
      " 3   C010    2412 non-null   float64\n",
      " 4   E001    2412 non-null   float64\n",
      " 5   E003    2412 non-null   float64\n",
      " 6   J001    2412 non-null   int64  \n",
      " 7   M016    2412 non-null   float64\n",
      " 8   N010    2412 non-null   float64\n",
      " 9   N011    2412 non-null   float64\n",
      " 10  N012    2412 non-null   float64\n",
      " 11  N013    2412 non-null   float64\n",
      " 12  N014    2412 non-null   float64\n",
      " 13  N015    2412 non-null   float64\n",
      " 14  N016    2412 non-null   float64\n",
      " 15  N017    2412 non-null   float64\n",
      " 16  P006    2412 non-null   int64  \n",
      " 17  P007    2412 non-null   int64  \n",
      " 18  P009    2412 non-null   int64  \n",
      " 19  P011    2412 non-null   int64  \n",
      " 20  P013    2412 non-null   int64  \n",
      " 21  P015    2412 non-null   int64  \n",
      " 22  P016    2412 non-null   int64  \n",
      " 23  P018    2412 non-null   int64  \n",
      " 24  P020    2412 non-null   int64  \n",
      " 25  P023    2412 non-null   int64  \n",
      " 26  P025    2412 non-null   int64  \n",
      " 27  P026    2412 non-null   int64  \n",
      " 28  P02601  2412 non-null   float64\n",
      " 29  P034    2412 non-null   float64\n",
      " 30  P042    2412 non-null   int64  \n",
      " 31  P044    2412 non-null   float64\n",
      " 32  P045    2412 non-null   float64\n",
      " 33  P050    2412 non-null   float64\n",
      " 34  P068    2412 non-null   float64\n",
      " 35  Q002    2412 non-null   float64\n",
      " 36  X001    2412 non-null   float64\n",
      "dtypes: float64(20), int64(17)\n",
      "memory usage: 697.3 KB\n"
     ]
    }
   ],
   "source": [
    "df.info(verbose=True, null_counts=True)"
   ]
  },
  {
   "cell_type": "code",
   "execution_count": 56,
   "metadata": {},
   "outputs": [
    {
     "data": {
      "text/plain": [
       "2    731\n",
       "1    625\n",
       "3    487\n",
       "5    324\n",
       "4    245\n",
       "Name: regiao, dtype: int64"
      ]
     },
     "execution_count": 56,
     "metadata": {},
     "output_type": "execute_result"
    }
   ],
   "source": [
    "# V001 -> estados -> passando para regiões do brasil\n",
    "\n",
    "testeRegioes = df\n",
    "\n",
    "regiao = testeRegioes['V0001'].copy()\n",
    "\n",
    "for i in range(testeRegioes.shape[0]):\n",
    "    regiao.iloc[i] = regiao.iloc[i] // 10\n",
    "\n",
    "testeRegioes['regiao'] = regiao\n",
    "\n",
    "testeRegioes['regiao'].value_counts()"
   ]
  },
  {
   "cell_type": "code",
   "execution_count": 57,
   "metadata": {},
   "outputs": [
    {
     "name": "stdout",
     "output_type": "stream",
     "text": [
      "<class 'pandas.core.frame.DataFrame'>\n",
      "RangeIndex: 2412 entries, 0 to 2411\n",
      "Data columns (total 38 columns):\n",
      " #   Column  Non-Null Count  Dtype  \n",
      "---  ------  --------------  -----  \n",
      " 0   V0001   2412 non-null   int64  \n",
      " 1   C008    2412 non-null   int64  \n",
      " 2   C009    2412 non-null   int64  \n",
      " 3   C010    2412 non-null   float64\n",
      " 4   E001    2412 non-null   float64\n",
      " 5   E003    2412 non-null   float64\n",
      " 6   J001    2412 non-null   int64  \n",
      " 7   M016    2412 non-null   float64\n",
      " 8   N010    2412 non-null   float64\n",
      " 9   N011    2412 non-null   float64\n",
      " 10  N012    2412 non-null   float64\n",
      " 11  N013    2412 non-null   float64\n",
      " 12  N014    2412 non-null   float64\n",
      " 13  N015    2412 non-null   float64\n",
      " 14  N016    2412 non-null   float64\n",
      " 15  N017    2412 non-null   float64\n",
      " 16  P006    2412 non-null   int64  \n",
      " 17  P007    2412 non-null   int64  \n",
      " 18  P009    2412 non-null   int64  \n",
      " 19  P011    2412 non-null   int64  \n",
      " 20  P013    2412 non-null   int64  \n",
      " 21  P015    2412 non-null   int64  \n",
      " 22  P016    2412 non-null   int64  \n",
      " 23  P018    2412 non-null   int64  \n",
      " 24  P020    2412 non-null   int64  \n",
      " 25  P023    2412 non-null   int64  \n",
      " 26  P025    2412 non-null   int64  \n",
      " 27  P026    2412 non-null   int64  \n",
      " 28  P02601  2412 non-null   float64\n",
      " 29  P034    2412 non-null   float64\n",
      " 30  P042    2412 non-null   int64  \n",
      " 31  P044    2412 non-null   float64\n",
      " 32  P045    2412 non-null   float64\n",
      " 33  P050    2412 non-null   float64\n",
      " 34  P068    2412 non-null   float64\n",
      " 35  Q002    2412 non-null   float64\n",
      " 36  X001    2412 non-null   float64\n",
      " 37  regiao  2412 non-null   int64  \n",
      "dtypes: float64(20), int64(18)\n",
      "memory usage: 716.2 KB\n"
     ]
    }
   ],
   "source": [
    "df.info(verbose=True, null_counts=True)"
   ]
  },
  {
   "cell_type": "code",
   "execution_count": 58,
   "metadata": {},
   "outputs": [],
   "source": [
    "#for item in variaveis:\n",
    "#    plotar_grafico(item[0], item[1])"
   ]
  },
  {
   "cell_type": "raw",
   "metadata": {},
   "source": [
    "X V0001 -> retirar\n",
    "C008 -> normalizar\n",
    "X C009 -> criar uma variável pra cada resposta\n",
    "X C010 -> só 0 e 1\n",
    "X E001 -> só 0 e 1\n",
    "X E003 -> só 0 e 1\n",
    "X J001 -> retirar\n",
    "X M016 -> 1,2,3 -> 1 (frequente)\n",
    "        4,5,6 -> 0 (não frequente ou não faz)\n",
    "\n",
    "X N010 -> 1,2 -> 0 (menos da metade)\n",
    "        3,4 -> 1 (mais da metade)\n",
    "X N011 -> 1,2 -> 0 (menos da metade)\n",
    "        3,4 -> 1 (mais da metade)\n",
    "X N012 -> 1,2 -> 0 (menos da metade)\n",
    "        3,4 -> 1 (mais da metade)\n",
    "X N013 -> 1,2 -> 0 (menos da metade)\n",
    "        3,4 -> 1 (mais da metade)\n",
    "X N014 -> 1,2 -> 0 (menos da metade)\n",
    "        3,4 -> 1 (mais da metade)\n",
    "X N015 -> 1,2 -> 0 (menos da metade)\n",
    "        3,4 -> 1 (mais da metade)\n",
    "X N016 -> 1,2 -> 0 (menos da metade)\n",
    "        3,4 -> 1 (mais da metade)\n",
    "X N017 -> 1,2 -> 0 (menos da metade)\n",
    "        3,4 -> 1 (mais da metade)\n",
    "\n",
    "X P006 -> normalizar\n",
    "X P007 -> normalizar\n",
    "X P009 -> normalizar\n",
    "X P011 -> normalizar\n",
    "X P013 -> normalizar\n",
    "X P015 -> normalizar\n",
    "X P016 -> normalizar\n",
    "X P018 -> normalizar\n",
    "X P020 -> normalizar\n",
    "X P023 -> normalizar\n",
    "X P025 -> normalizar\n",
    "X P026 -> normalizar\n",
    "X P02601 -> normalizar (muito baixo 0 -> muito alto 1)\n",
    "X P034 -> não 0 sim 1\n",
    "X P042 -> normalizar\n",
    "X P044 -> não 0 sim 1\n",
    "X P045 -> 8,1 -> 0\n",
    "        2,3,4 -> 1\n",
    "        5,6,7 -> 2\n",
    "\n",
    "X P050 -> 1,2 -> 1\n",
    "        3 -> 0\n",
    "\n",
    "X P068 -> fazer o corte em 30\n",
    "\n",
    "    nunca - 0/365 -> 0\n",
    "    menos que mensalmente - 10/365 -> 10\n",
    "    mensalmente - 30/365 -> 30\n",
    "    semanalmente - 150/365 -> 150\n",
    "    diariamente - 365/365 -> 365\n",
    "    normalizar\n",
    "\n",
    "X Q002 -> 1 -> 1 / 3 -> 0\n",
    "X X001 -> \n",
    "\n",
    "    1. Há menos de 2 semanas -> 10 -> 400\n",
    "    2. Entre 15 dias e um mês-> 22 -> 225\n",
    "    3. Entre um mês e 3 meses atrás -> 60\n",
    "    4. Entre 3 meses e um ano -> 225 -> 22\n",
    "    5. Há mais de um ano 400 -> 10\n",
    "    normalizar\n",
    "\n",
    "X regiao -> criar uma variável pra cada resposta"
   ]
  },
  {
   "cell_type": "code",
   "execution_count": 59,
   "metadata": {},
   "outputs": [
    {
     "name": "stdout",
     "output_type": "stream",
     "text": [
      "<class 'pandas.core.frame.DataFrame'>\n",
      "RangeIndex: 2412 entries, 0 to 2411\n",
      "Data columns (total 38 columns):\n",
      " #   Column  Non-Null Count  Dtype  \n",
      "---  ------  --------------  -----  \n",
      " 0   V0001   2412 non-null   int64  \n",
      " 1   C008    2412 non-null   int64  \n",
      " 2   C009    2412 non-null   int64  \n",
      " 3   C010    2412 non-null   float64\n",
      " 4   E001    2412 non-null   float64\n",
      " 5   E003    2412 non-null   float64\n",
      " 6   J001    2412 non-null   int64  \n",
      " 7   M016    2412 non-null   float64\n",
      " 8   N010    2412 non-null   float64\n",
      " 9   N011    2412 non-null   float64\n",
      " 10  N012    2412 non-null   float64\n",
      " 11  N013    2412 non-null   float64\n",
      " 12  N014    2412 non-null   float64\n",
      " 13  N015    2412 non-null   float64\n",
      " 14  N016    2412 non-null   float64\n",
      " 15  N017    2412 non-null   float64\n",
      " 16  P006    2412 non-null   int64  \n",
      " 17  P007    2412 non-null   int64  \n",
      " 18  P009    2412 non-null   int64  \n",
      " 19  P011    2412 non-null   int64  \n",
      " 20  P013    2412 non-null   int64  \n",
      " 21  P015    2412 non-null   int64  \n",
      " 22  P016    2412 non-null   int64  \n",
      " 23  P018    2412 non-null   int64  \n",
      " 24  P020    2412 non-null   int64  \n",
      " 25  P023    2412 non-null   int64  \n",
      " 26  P025    2412 non-null   int64  \n",
      " 27  P026    2412 non-null   int64  \n",
      " 28  P02601  2412 non-null   float64\n",
      " 29  P034    2412 non-null   float64\n",
      " 30  P042    2412 non-null   int64  \n",
      " 31  P044    2412 non-null   float64\n",
      " 32  P045    2412 non-null   float64\n",
      " 33  P050    2412 non-null   float64\n",
      " 34  P068    2412 non-null   float64\n",
      " 35  Q002    2412 non-null   float64\n",
      " 36  X001    2412 non-null   float64\n",
      " 37  regiao  2412 non-null   int64  \n",
      "dtypes: float64(20), int64(18)\n",
      "memory usage: 716.2 KB\n"
     ]
    }
   ],
   "source": [
    "df.info(verbose=True, null_counts=True)"
   ]
  },
  {
   "cell_type": "markdown",
   "metadata": {},
   "source": [
    "# Trabalhando com cada variável"
   ]
  },
  {
   "cell_type": "code",
   "execution_count": 60,
   "metadata": {},
   "outputs": [],
   "source": [
    "# Retirando variáveis\n",
    "\n",
    "# V0001 -> representa estados, agregamos em regiões no atributo regiao\n",
    "# J001 -> percepção do estado de saúde entra mais como consequência do que como causa da hipertensão\n",
    "lista = ['V0001', 'J001']\n",
    "df.drop(columns=lista, inplace= True)"
   ]
  },
  {
   "cell_type": "code",
   "execution_count": 61,
   "metadata": {},
   "outputs": [],
   "source": [
    "df.to_csv(\"hipertensao_preprocessada.csv\",sep=';', index=False)"
   ]
  },
  {
   "cell_type": "code",
   "execution_count": 62,
   "metadata": {},
   "outputs": [],
   "source": [
    "# C009 - criando uma variável para cada resposta (não sei uma função pronta numa biblioteca, fiz na mão)\n",
    "branco = df[df['C009'] == 1]['C009']\n",
    "preto = df[df['C009'] == 2]['C009'].copy()\n",
    "preto.loc[preto != 0] = 1\n",
    "amarelo = df[df['C009'] == 3]['C009'].copy()\n",
    "amarelo.loc[amarelo != 0] = 1\n",
    "pardo = df[df['C009'] == 4]['C009'].copy()\n",
    "pardo.loc[pardo != 0] = 1\n",
    "indigena = df[df['C009'] == 5]['C009'].copy()\n",
    "indigena.loc[indigena != 0] = 1\n",
    "\n",
    "df['C009_branco'] = branco\n",
    "df['C009_branco'].fillna(value=0, inplace=True)\n",
    "df['C009_preto'] = preto\n",
    "df['C009_preto'].fillna(value=0, inplace=True)\n",
    "df['C009_amarelo'] = amarelo\n",
    "df['C009_amarelo'].fillna(value=0, inplace=True)\n",
    "df['C009_pardo'] = pardo\n",
    "df['C009_pardo'].fillna(value=0, inplace=True)\n",
    "df['C009_indigena'] = indigena\n",
    "df['C009_indigena'].fillna(value=0, inplace=True)\n",
    "\n",
    "#df.info(verbose=True, null_counts=True)\n",
    "#print(df['C009'].value_counts())\n",
    "#print(df['C009_branco'].value_counts())\n",
    "#print(df['C009_preto'].value_counts())\n",
    "#print(df['C009_amarelo'].value_counts())\n",
    "#print(df['C009_pardo'].value_counts())\n",
    "#print(df['C009_indigena'].value_counts())\n",
    "#df.sample(10)\n",
    "df.drop(columns=['C009'], inplace=True)"
   ]
  },
  {
   "cell_type": "code",
   "execution_count": 63,
   "metadata": {},
   "outputs": [],
   "source": [
    "# regiao - criando uma variável para cada resposta (não sei uma função pronta numa biblioteca, fiz na mão)\n",
    "norte = df[df['regiao'] == 1]['regiao']\n",
    "nordeste = df[df['regiao'] == 2]['regiao'].copy()\n",
    "nordeste.loc[nordeste != 0] = 1\n",
    "sudeste = df[df['regiao'] == 3]['regiao'].copy()\n",
    "sudeste.loc[sudeste != 0] = 1\n",
    "sul = df[df['regiao'] == 4]['regiao'].copy()\n",
    "sul.loc[sul != 0] = 1\n",
    "centro_oeste = df[df['regiao'] == 5]['regiao'].copy()\n",
    "centro_oeste.loc[centro_oeste != 0] = 1\n",
    "\n",
    "df['norte'] = norte\n",
    "df['norte'].fillna(value=0, inplace=True)\n",
    "df['nordeste'] = nordeste\n",
    "df['nordeste'].fillna(value=0, inplace=True)\n",
    "df['sudeste'] = sudeste\n",
    "df['sudeste'].fillna(value=0, inplace=True)\n",
    "df['sul'] = sul\n",
    "df['sul'].fillna(value=0, inplace=True)\n",
    "df['centro_oeste'] = centro_oeste\n",
    "df['centro_oeste'].fillna(value=0, inplace=True)\n",
    "\n",
    "#df.info(verbose=True, null_counts=True)\n",
    "#print(df['regiao'].value_counts())\n",
    "#print(df['norte'].value_counts())\n",
    "#print(df['sudeste'].value_counts())\n",
    "#print(df['sul'].value_counts())\n",
    "#print(df['centro_oeste'].value_counts())\n",
    "#df.sample(10)\n",
    "df.drop(columns=['regiao'], inplace=True)"
   ]
  },
  {
   "cell_type": "code",
   "execution_count": 64,
   "metadata": {},
   "outputs": [],
   "source": [
    "# C010, E001, E003, P034, P044, Q002 - apenas colocando não como 0\n",
    "for i in range(df.shape[0]):\n",
    "    if df.loc[i, 'C010'] != 1:\n",
    "        df.loc[i, 'C010'] = 0\n",
    "    if df.loc[i, 'E001'] != 1:\n",
    "        df.loc[i, 'E001'] = 0\n",
    "    if df.loc[i, 'E003'] != 1:\n",
    "        df.loc[i, 'E003'] = 0\n",
    "    if df.loc[i, 'P034'] != 1:\n",
    "        df.loc[i, 'P034'] = 0\n",
    "    if df.loc[i, 'P044'] != 1:\n",
    "        df.loc[i, 'P044'] = 0\n",
    "    if df.loc[i, 'Q002'] != 1:\n",
    "        df.loc[i, 'Q002'] = 0\n",
    "        \n",
    "#df['E001'].value_counts()"
   ]
  },
  {
   "cell_type": "code",
   "execution_count": 65,
   "metadata": {},
   "outputs": [
    {
     "data": {
      "text/plain": [
       "0.0    1698\n",
       "1.0     714\n",
       "Name: M016, dtype: int64"
      ]
     },
     "execution_count": 65,
     "metadata": {},
     "output_type": "execute_result"
    }
   ],
   "source": [
    "# M016, N010, N011, N012, N013, N014, N015, N016, N017 - juntando algumas respostas\n",
    "for i in range(df.shape[0]):\n",
    "    if 1 <= df.loc[i, 'M016'] <= 3: #faz exercícios frequentemente\n",
    "        df.loc[i, 'M016'] = 1\n",
    "    elif 4 <= df.loc[i, 'M016'] <= 6: # quase não faz exercícios ou não faz\n",
    "        df.loc[i, 'M016'] = 0\n",
    "        \n",
    "    if 1 <= df.loc[i, 'N010'] <= 2: #menos da metade dos dias\n",
    "        df.loc[i, 'N010'] = 0\n",
    "    elif 3 <= df.loc[i, 'N010'] <= 4: # mais da metade dos dias\n",
    "        df.loc[i, 'N010'] = 1\n",
    "    if 1 <= df.loc[i, 'N011'] <= 2: #menos da metade dos dias\n",
    "        df.loc[i, 'N011'] = 0\n",
    "    elif 3 <= df.loc[i, 'N011'] <= 4: # mais da metade dos dias\n",
    "        df.loc[i, 'N011'] = 1\n",
    "    if 1 <= df.loc[i, 'N012'] <= 2: #menos da metade dos dias\n",
    "        df.loc[i, 'N012'] = 0\n",
    "    elif 3 <= df.loc[i, 'N012'] <= 4: # mais da metade dos dias\n",
    "        df.loc[i, 'N012'] = 1\n",
    "    if 1 <= df.loc[i, 'N013'] <= 2: #menos da metade dos dias\n",
    "        df.loc[i, 'N013'] = 0\n",
    "    elif 3 <= df.loc[i, 'N013'] <= 4: # mais da metade dos dias\n",
    "        df.loc[i, 'N013'] = 1\n",
    "    if 1 <= df.loc[i, 'N014'] <= 2: #menos da metade dos dias\n",
    "        df.loc[i, 'N014'] = 0\n",
    "    elif 3 <= df.loc[i, 'N014'] <= 4: # mais da metade dos dias\n",
    "        df.loc[i, 'N014'] = 1\n",
    "    if 1 <= df.loc[i, 'N015'] <= 2: #menos da metade dos dias\n",
    "        df.loc[i, 'N015'] = 0\n",
    "    elif 3 <= df.loc[i, 'N015'] <= 4: # mais da metade dos dias\n",
    "        df.loc[i, 'N015'] = 1\n",
    "    if 1 <= df.loc[i, 'N016'] <= 2: #menos da metade dos dias\n",
    "        df.loc[i, 'N016'] = 0\n",
    "    elif 3 <= df.loc[i, 'N016'] <= 4: # mais da metade dos dias\n",
    "        df.loc[i, 'N016'] = 1\n",
    "    if 1 <= df.loc[i, 'N017'] <= 2: #menos da metade dos dias\n",
    "        df.loc[i, 'N017'] = 0\n",
    "    elif 3 <= df.loc[i, 'N017'] <= 4: # mais da metade dos dias\n",
    "        df.loc[i, 'N017'] = 1\n",
    "        \n",
    "df['M016'].value_counts()"
   ]
  },
  {
   "cell_type": "code",
   "execution_count": 66,
   "metadata": {},
   "outputs": [
    {
     "name": "stdout",
     "output_type": "stream",
     "text": [
      "<class 'pandas.core.frame.DataFrame'>\n",
      "RangeIndex: 2412 entries, 0 to 2411\n",
      "Data columns (total 44 columns):\n",
      " #   Column         Non-Null Count  Dtype  \n",
      "---  ------         --------------  -----  \n",
      " 0   C008           2412 non-null   int64  \n",
      " 1   C010           2412 non-null   float64\n",
      " 2   E001           2412 non-null   float64\n",
      " 3   E003           2412 non-null   float64\n",
      " 4   M016           2412 non-null   float64\n",
      " 5   N010           2412 non-null   float64\n",
      " 6   N011           2412 non-null   float64\n",
      " 7   N012           2412 non-null   float64\n",
      " 8   N013           2412 non-null   float64\n",
      " 9   N014           2412 non-null   float64\n",
      " 10  N015           2412 non-null   float64\n",
      " 11  N016           2412 non-null   float64\n",
      " 12  N017           2412 non-null   float64\n",
      " 13  P006           2412 non-null   int64  \n",
      " 14  P007           2412 non-null   int64  \n",
      " 15  P009           2412 non-null   int64  \n",
      " 16  P011           2412 non-null   int64  \n",
      " 17  P013           2412 non-null   int64  \n",
      " 18  P015           2412 non-null   int64  \n",
      " 19  P016           2412 non-null   int64  \n",
      " 20  P018           2412 non-null   int64  \n",
      " 21  P020           2412 non-null   int64  \n",
      " 22  P023           2412 non-null   int64  \n",
      " 23  P025           2412 non-null   int64  \n",
      " 24  P026           2412 non-null   int64  \n",
      " 25  P02601         2412 non-null   float64\n",
      " 26  P034           2412 non-null   float64\n",
      " 27  P042           2412 non-null   int64  \n",
      " 28  P044           2412 non-null   float64\n",
      " 29  P045           2412 non-null   float64\n",
      " 30  P050           2412 non-null   float64\n",
      " 31  P068           2412 non-null   float64\n",
      " 32  Q002           2412 non-null   float64\n",
      " 33  X001           2412 non-null   float64\n",
      " 34  C009_branco    2412 non-null   float64\n",
      " 35  C009_preto     2412 non-null   float64\n",
      " 36  C009_amarelo   2412 non-null   float64\n",
      " 37  C009_pardo     2412 non-null   float64\n",
      " 38  C009_indigena  2412 non-null   float64\n",
      " 39  norte          2412 non-null   float64\n",
      " 40  nordeste       2412 non-null   float64\n",
      " 41  sudeste        2412 non-null   float64\n",
      " 42  sul            2412 non-null   float64\n",
      " 43  centro_oeste   2412 non-null   float64\n",
      "dtypes: float64(30), int64(14)\n",
      "memory usage: 829.2 KB\n"
     ]
    }
   ],
   "source": [
    "df.info(verbose=True, null_counts=True)"
   ]
  },
  {
   "cell_type": "code",
   "execution_count": 67,
   "metadata": {},
   "outputs": [],
   "source": [
    "# Juntando algumas respostas\n",
    "# P045 -> 8,1 -> 0  -> quase não assiste televisão\n",
    "#        2,3,4 -> 1 -> uso moderado de televisão\n",
    "#        5,6,7 -> 2 -> uso alto de televisão\n",
    "#\n",
    "#P050 -> 1,2 -> 1   -> fuma\n",
    "#        3 -> 0     -> não fuma\n",
    "\n",
    "for i in range(df.shape[0]):\n",
    "    if df.loc[i, 'P045'] == 1 or df.loc[i, 'P045'] == 8: # quase não assiste televisão\n",
    "        df.loc[i, 'P045'] = 0\n",
    "    elif 2 <= df.loc[i, 'P045'] <= 4: # uso moderado de televisão\n",
    "        df.loc[i, 'P045'] = 1\n",
    "    elif 5 <= df.loc[i, 'P045'] <= 7: # uso alto de televisão\n",
    "        df.loc[i, 'P045'] = 2\n",
    "        \n",
    "    if 1 <= df.loc[i, 'P050'] <= 2: # fuma\n",
    "        df.loc[i, 'P050'] = 1\n",
    "    elif df.loc[i, 'P050'] == 3: # não fuma\n",
    "        df.loc[i, 'P050'] = 0"
   ]
  },
  {
   "cell_type": "code",
   "execution_count": 68,
   "metadata": {},
   "outputs": [],
   "source": [
    "#P068 -> consideramos aproximadamente quantos dias no ano a pessoa tem contato com algueḿ que fuma na casa de acordo com a frequência dada (depois esse valor será normalizado)\n",
    "#5. nunca - 0/365 -> 0\n",
    "#4. menos que mensalmente - 10/365 -> 10\n",
    "#3. mensalmente - 30/365 -> 30\n",
    "#2. semanalmente - 150/365 -> 150\n",
    "#1. diariamente - 365/365 -> 365\n",
    "\n",
    "for i in range(df.shape[0]):\n",
    "    if df.loc[i, 'P068'] == 1: # diariamente\n",
    "        df.loc[i, 'P068'] = 365\n",
    "    elif df.loc[i, 'P068'] == 2: # semanalmente\n",
    "        df.loc[i, 'P068'] = 150\n",
    "    elif df.loc[i, 'P068'] == 3: # mensalmente\n",
    "        df.loc[i, 'P068'] = 30\n",
    "    elif df.loc[i, 'P068'] == 4: # menos que mensalmente\n",
    "        df.loc[i, 'P068'] = 10\n",
    "    elif df.loc[i, 'P068'] == 5: # nunca\n",
    "        df.loc[i, 'P068'] = 0"
   ]
  },
  {
   "cell_type": "code",
   "execution_count": 69,
   "metadata": {},
   "outputs": [],
   "source": [
    "# X001 -> consideramos aproximadamente há quantos menos a pessoa teria ido no médico e invertemos as respostas (para normalizar corretamente)\n",
    "# 1. Há menos de 2 semanas -> 10 -> 400\n",
    "# 2. Entre 15 dias e um mês-> 22 -> 225\n",
    "# 3. Entre um mês e 3 meses atrás -> 60\n",
    "# 4. Entre 3 meses e um ano -> 225 -> 22\n",
    "# 5. Há mais de um ano 400 -> 10\n",
    "\n",
    "for i in range(df.shape[0]):\n",
    "    if df.loc[i, 'X001'] == 1: # Há menos de 2 semanas\n",
    "        df.loc[i, 'X001'] = 400\n",
    "    elif df.loc[i, 'X001'] == 2: # Entre 15 dias e um mês\n",
    "        df.loc[i, 'X001'] = 225\n",
    "    elif df.loc[i, 'X001'] == 3: # Entre um mês e 3 meses atrás\n",
    "        df.loc[i, 'X001'] = 60\n",
    "    elif df.loc[i, 'X001'] == 4: # Entre 3 meses e um ano\n",
    "        df.loc[i, 'X001'] = 22\n",
    "    elif df.loc[i, 'X001'] == 5: # Há mais de um ano\n",
    "        df.loc[i, 'X001'] = 10"
   ]
  },
  {
   "cell_type": "code",
   "execution_count": 70,
   "metadata": {},
   "outputs": [],
   "source": [
    "# Aplicando normalização max-min nos seguintes atributos (todos numéricos):\n",
    "# C008, P006, P007, P009, P011, P013, P015, P016, P018, P020, P023, P025, P026, P02601, P042, P068, X001\n",
    "\n",
    "lista = ['C008', 'P006', 'P007', 'P009', 'P011', 'P013', 'P015', 'P016', 'P018', 'P020', 'P023', 'P025', 'P026', 'P02601', 'P042', 'P045', 'P068', 'X001']\n",
    "\n",
    "for item in lista:\n",
    "    df[item] = normalizar(df[item])"
   ]
  },
  {
   "cell_type": "code",
   "execution_count": 71,
   "metadata": {},
   "outputs": [],
   "source": [
    "df.to_csv(\"hipertensao_normalizada.csv\",sep=';', index=False)"
   ]
  },
  {
   "cell_type": "markdown",
   "metadata": {},
   "source": [
    "# Cross-validation, Oversampling e Treinamento"
   ]
  },
  {
   "cell_type": "code",
   "execution_count": 72,
   "metadata": {},
   "outputs": [],
   "source": [
    "# Iremos separar 20% da base para teste\n",
    "# Com os outros 80%, aplicaremos um cross validation com fold = 5 (ficaria muito pequeno para fazer 10)\n",
    "# Após isso, aplicaremos o oversample para cada dobra e então aplicar a rede neural para realizar o treinamento da classificação\n",
    "y = df['Q002'].to_numpy()\n",
    "df.drop(columns=['Q002'], inplace=True)\n",
    "X = df.to_numpy()\n",
    "X_treino, X_teste, y_treino, y_teste = train_test_split(X, y, test_size=0.2, random_state=0)"
   ]
  },
  {
   "cell_type": "code",
   "execution_count": 73,
   "metadata": {},
   "outputs": [
    {
     "data": {
      "text/plain": [
       "((1929, 43), (1929,))"
      ]
     },
     "execution_count": 73,
     "metadata": {},
     "output_type": "execute_result"
    }
   ],
   "source": [
    "X_treino.shape, y_treino.shape"
   ]
  },
  {
   "cell_type": "code",
   "execution_count": 74,
   "metadata": {},
   "outputs": [
    {
     "data": {
      "text/plain": [
       "((483, 43), (483,))"
      ]
     },
     "execution_count": 74,
     "metadata": {},
     "output_type": "execute_result"
    }
   ],
   "source": [
    "X_teste.shape, y_teste.shape"
   ]
  },
  {
   "cell_type": "code",
   "execution_count": 92,
   "metadata": {},
   "outputs": [],
   "source": [
    "# utilizando o cálculo do a como heurística para definir o tamanho da quantidade de neurônios na camada escondida\n",
    "# a = (num_entradas + num_saídas) / 2\n",
    "# a = (43 + 1) / 2 = 44 / 2 = 22\n",
    "rede_neural = MLPClassifier()\n",
    "\n",
    "oversampler = SMOTE(random_state=42)\n",
    "# Nesta linha, estamos criando um pipeline para poder utilizar o cross-validation aplicando o oversampling SMOTE em cada dobra\n",
    "imba_pipeline = make_pipeline(oversampler, rede_neural)\n",
    "# kfold com k = 5\n",
    "kf = KFold(n_splits=5, random_state=42, shuffle=True)\n",
    "# métricas utilizadas para avaliar a qualidade do resultado\n",
    "metricas = ['accuracy', 'precision', 'recall', 'f1']\n",
    "#  utiliza o cross-validation\n",
    "#metricas = cross_validate(imba_pipeline, X_treino, y_treino, scoring=metricas, cv=kf)"
   ]
  },
  {
   "cell_type": "code",
   "execution_count": 89,
   "metadata": {},
   "outputs": [],
   "source": [
    "# testando a rede treinada\n",
    "#y_teste_predict = cross_val_predict(imba_pipeline, X_teste, y_teste, cv=kf)"
   ]
  },
  {
   "cell_type": "markdown",
   "metadata": {},
   "source": [
    "# Resultados Preliminares"
   ]
  },
  {
   "cell_type": "code",
   "execution_count": 90,
   "metadata": {},
   "outputs": [
    {
     "data": {
      "text/plain": [
       "['accuracy', 'precision', 'recall', 'f1']"
      ]
     },
     "execution_count": 90,
     "metadata": {},
     "output_type": "execute_result"
    }
   ],
   "source": [
    "# Resultado da validação k-fold = 5\n",
    "metricas"
   ]
  },
  {
   "cell_type": "code",
   "execution_count": 78,
   "metadata": {},
   "outputs": [
    {
     "name": "stdout",
     "output_type": "stream",
     "text": [
      "                 precision    recall  f1-score   support\n",
      "\n",
      "sem hipertensão       0.91      0.83      0.87       439\n",
      "com hipertensão       0.09      0.16      0.11        44\n",
      "\n",
      "       accuracy                           0.77       483\n",
      "      macro avg       0.50      0.49      0.49       483\n",
      "   weighted avg       0.83      0.77      0.80       483\n",
      "\n"
     ]
    }
   ],
   "source": [
    "print(classification_report(y_teste, y_teste_predict, target_names=['sem hipertensão', 'com hipertensão']))"
   ]
  },
  {
   "cell_type": "code",
   "execution_count": 79,
   "metadata": {},
   "outputs": [
    {
     "name": "stdout",
     "output_type": "stream",
     "text": [
      "[[364  75]\n",
      " [ 37   7]]\n"
     ]
    }
   ],
   "source": [
    "print(confusion_matrix(y_teste, y_teste_predict))"
   ]
  },
  {
   "cell_type": "code",
   "execution_count": 120,
   "metadata": {},
   "outputs": [],
   "source": [
    "parametros = {\n",
    "    'mlpclassifier__hidden_layer_sizes': [(16, 16), (32, 32), (64, 64), (128, 128), (128)],\n",
    "    'mlpclassifier__activation': ['logistic'],\n",
    "    'mlpclassifier__solver': ['sgd'],\n",
    "    'mlpclassifier__learning_rate': ['adaptive'],\n",
    "    'mlpclassifier__learning_rate_init': [0.001],\n",
    "    'mlpclassifier__max_iter': [20000],\n",
    "    #'mlpclassifier__verbose': [True],\n",
    "    'mlpclassifier__random_state': [1]\n",
    "}"
   ]
  },
  {
   "cell_type": "code",
   "execution_count": 121,
   "metadata": {},
   "outputs": [],
   "source": [
    "grid_imba = GridSearchCV(imba_pipeline, param_grid=parametros, cv=kf, scoring='f1', return_train_score=True)\n",
    "grid_imba.fit(X_treino, y_treino);"
   ]
  },
  {
   "cell_type": "code",
   "execution_count": 122,
   "metadata": {},
   "outputs": [
    {
     "data": {
      "text/plain": [
       "{'mlpclassifier__activation': 'logistic',\n",
       " 'mlpclassifier__hidden_layer_sizes': 128,\n",
       " 'mlpclassifier__learning_rate': 'adaptive',\n",
       " 'mlpclassifier__learning_rate_init': 0.001,\n",
       " 'mlpclassifier__max_iter': 20000,\n",
       " 'mlpclassifier__random_state': 1,\n",
       " 'mlpclassifier__solver': 'sgd'}"
      ]
     },
     "execution_count": 122,
     "metadata": {},
     "output_type": "execute_result"
    }
   ],
   "source": [
    "grid_imba.best_params_"
   ]
  },
  {
   "cell_type": "code",
   "execution_count": 123,
   "metadata": {},
   "outputs": [
    {
     "data": {
      "text/plain": [
       "0.23031399245620143"
      ]
     },
     "execution_count": 123,
     "metadata": {},
     "output_type": "execute_result"
    }
   ],
   "source": [
    "grid_imba.best_score_"
   ]
  },
  {
   "cell_type": "code",
   "execution_count": 124,
   "metadata": {},
   "outputs": [
    {
     "name": "stdout",
     "output_type": "stream",
     "text": [
      "                 precision    recall  f1-score   support\n",
      "\n",
      "sem hipertensão       0.91      0.83      0.87       439\n",
      "com hipertensão       0.09      0.16      0.11        44\n",
      "\n",
      "       accuracy                           0.77       483\n",
      "      macro avg       0.50      0.49      0.49       483\n",
      "   weighted avg       0.83      0.77      0.80       483\n",
      "\n"
     ]
    }
   ],
   "source": [
    "y_test_predict = grid_imba.predict(X_teste)\n",
    "print(classification_report(y_teste, y_teste_predict, target_names=['sem hipertensão', 'com hipertensão']))"
   ]
  },
  {
   "cell_type": "code",
   "execution_count": 125,
   "metadata": {},
   "outputs": [
    {
     "data": {
      "text/plain": [
       "array([[364,  75],\n",
       "       [ 37,   7]], dtype=int64)"
      ]
     },
     "execution_count": 125,
     "metadata": {},
     "output_type": "execute_result"
    }
   ],
   "source": [
    "confusion_matrix(y_teste, y_teste_predict)"
   ]
  },
  {
   "cell_type": "code",
   "execution_count": null,
   "metadata": {},
   "outputs": [],
   "source": []
  }
 ],
 "metadata": {
  "kernelspec": {
   "display_name": "Python 3",
   "language": "python",
   "name": "python3"
  },
  "language_info": {
   "codemirror_mode": {
    "name": "ipython",
    "version": 3
   },
   "file_extension": ".py",
   "mimetype": "text/x-python",
   "name": "python",
   "nbconvert_exporter": "python",
   "pygments_lexer": "ipython3",
   "version": "3.8.5"
  }
 },
 "nbformat": 4,
 "nbformat_minor": 4
}
